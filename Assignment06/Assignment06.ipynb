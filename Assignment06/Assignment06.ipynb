{
 "cells": [
  {
   "cell_type": "markdown",
   "metadata": {},
   "source": [
    "<h1>20156025 Park Sungho</h1>"
   ]
  },
  {
   "cell_type": "code",
   "execution_count": 24,
   "metadata": {},
   "outputs": [
    {
     "name": "stdout",
     "output_type": "stream",
     "text": [
      "[[ 0  0  0 ...,  0  0  0]\n",
      " [ 1  1  1 ...,  1  1  1]\n",
      " [ 2  2  2 ...,  2  2  2]\n",
      " ..., \n",
      " [97 97 97 ..., 97 97 97]\n",
      " [98 98 98 ..., 98 98 98]\n",
      " [99 99 99 ..., 99 99 99]]\n",
      "[[ 0  1  2 ..., 97 98 99]\n",
      " [ 0  1  2 ..., 97 98 99]\n",
      " [ 0  1  2 ..., 97 98 99]\n",
      " ..., \n",
      " [ 0  1  2 ..., 97 98 99]\n",
      " [ 0  1  2 ..., 97 98 99]\n",
      " [ 0  1  2 ..., 97 98 99]]\n"
     ]
    }
   ],
   "source": [
    "import PIL.Image as pilimg\n",
    "import numpy as np\n",
    "import matplotlib.pyplot as plt\n",
    "import matplotlib as mpl\n",
    "import random\n",
    "\n",
    "size_row = 100\n",
    "size_col = 100\n",
    "\n",
    "row = np.zeros((size_row,size_col),dtype = 'int')\n",
    "col = np.zeros((size_row,size_col),dtype = 'int')\n",
    "#데이터가 어디그룹인지 표시\n",
    "group_num = np.zeros((size_row,size_col),dtype = 'int') \n",
    "\n",
    "for i in range(size_row):\n",
    "    for j in range(size_col):\n",
    "        row[i][j] = i\n",
    "        col[i][j] = j\n",
    "        \n",
    "print(row)\n",
    "print(col)"
   ]
  },
  {
   "cell_type": "code",
   "execution_count": 41,
   "metadata": {
    "collapsed": true
   },
   "outputs": [],
   "source": [
    "#norm 1\n",
    "def norm1(x,y):\n",
    "    d = np.abs(x - y)\n",
    "    s = np.sum(d)\n",
    "    return(s)\n",
    "\n",
    "#norm 2\n",
    "def norm2(x, y):\n",
    "\n",
    "    d = (x - y) ** 2\n",
    "    s = np.sum(d)\n",
    "    r = np.sqrt(s)\n",
    "\n",
    "    return(r)"
   ]
  },
  {
   "cell_type": "code",
   "execution_count": 36,
   "metadata": {
    "collapsed": true
   },
   "outputs": [],
   "source": [
    "#가장 작은 distance를 가지는 centeroid가 무엇인지 찾아주는 func\n",
    "def min_dst(temp,k,x,y):\n",
    "    group = 0\n",
    "    min = temp[0]\n",
    "    for i in range(k):\n",
    "        if temp[i] < min:\n",
    "            min = temp[i] #centeroid[i] 와의 distance가 가장 작다\n",
    "            group = i\n",
    "    group_num[x,y] = group  #즉 x번째 데이터는 i 그룹이다..\n",
    "    return min"
   ]
  },
  {
   "cell_type": "code",
   "execution_count": 37,
   "metadata": {
    "collapsed": true
   },
   "outputs": [],
   "source": [
    "# plot Energy\n",
    "def visualize():\n",
    "    plt.title('??')\n",
    "    #plt.plot(arr_label,'bo-')\n",
    "    imshow(group_num, interpolation='nearest', cmap=plt.cm.bone_r)\n",
    "    \n",
    "    plt.legend() #범례\n",
    "    plt.show()"
   ]
  },
  {
   "cell_type": "code",
   "execution_count": 38,
   "metadata": {
    "collapsed": true
   },
   "outputs": [],
   "source": [
    "def init(centeroid,k):\n",
    "    for i in range(k):\n",
    "        centeroid[i][0] = random.randrange(0,size_row)\n",
    "        centeroid[i][1] = random.randrange(0,size_col)"
   ]
  },
  {
   "cell_type": "code",
   "execution_count": 47,
   "metadata": {
    "collapsed": true
   },
   "outputs": [],
   "source": [
    "def Kmeans(k,norm):\n",
    "    temp = np.zeros(k,dtype = 'float')\n",
    "    min_distance = np.zeros((size_row,size_col),dtype = 'float')\n",
    "    \n",
    "    centeroid = np.zeros((k,2),dtype = 'int')   #x,y k개 중심점\n",
    "    pre_centeroid = np.zeros((k,2),dtype = 'int')\n",
    "    \n",
    "    iteration = 0\n",
    "    energy = []\n",
    "    \n",
    "    #0. initalization\n",
    "    init(centeroid,k)\n",
    "    \n",
    "    #print(centeroid)\n",
    "    \n",
    "    #3.이전 centeroid와 현재 centeroid가 같을때까지 반복\n",
    "    while (not(np.array_equal(pre_centeroid, centeroid))):\n",
    "        group_count = np.zeros(k,dtype = 'int')\n",
    "        avg = np.zeros((k,2),dtype = 'int')\n",
    "        \n",
    "        pre_centeroid = centeroid\n",
    "        \n",
    "        #1. 각 픽셀과 centeroid를 비교 \n",
    "        #2. => 가장 작은걸로 그룹\n",
    "        for i in range(size_row):\n",
    "            for j in range(size_col):\n",
    "                for x in range(k):\n",
    "                    position = np.array([row[i][j],col[i][j]])\n",
    "                    #norm1 or norm2\n",
    "                    if norm == 1:\n",
    "                        temp[x] = norm1(position,centeroid[x,:])\n",
    "                    else:\n",
    "                        temp[x] = norm2(position,centeroid[x,:]) #픽셀과 centeroid의 distance\n",
    "                min_distance[i,j] = min_dst(temp,k,i,j) #가장 짧은 거리를 구한다(여기서 그룹이 정해짐).\n",
    "                group_count[group_num[i][j]]+=1 #각 그룹 갯수\n",
    "                \n",
    "        energy.append(np.sum(min_distance))\n",
    "        \n",
    "        # 각 그룹의 평균값 구하기\n",
    "        # Sum\n",
    "        for i in range(size_row):\n",
    "            for j in range(size_col):\n",
    "                avg[group_num[i][j],0] += row[i][0]\n",
    "                avg[group_num[i][j],1] += col[0][j]\n",
    "        # Divide\n",
    "        for i in range(k):\n",
    "            for j in range(2):\n",
    "                if group_count[i] != 0:\n",
    "                    avg[i,j] = avg[i,j] / group_count[i]\n",
    "        centeroid = avg\n",
    "        \n",
    "        iteration +=1\n",
    "        \n",
    "        \n",
    "    \n",
    "    visualize()\n",
    "    #print(centeroid)\n",
    "    #plotEnergy(energy)\n",
    "    #plotImage(centeroid)\n",
    "    return iteration"
   ]
  },
  {
   "cell_type": "markdown",
   "metadata": {},
   "source": [
    "<h1>1. Norm1 (k = 8,16,32)</h1>"
   ]
  },
  {
   "cell_type": "code",
   "execution_count": 48,
   "metadata": {
    "scrolled": true
   },
   "outputs": [
    {
     "data": {
      "image/png": "[encoded data removed]",
      "text/plain": [
       "<matplotlib.figure.Figure at 0x10e1fd02ba8>"
      ]
     },
     "metadata": {},
     "output_type": "display_data"
    },
    {
     "data": {
      "text/plain": [
       "18"
      ]
     },
     "execution_count": 48,
     "metadata": {},
     "output_type": "execute_result"
    }
   ],
   "source": [
    "Kmeans(8,1)"
   ]
  },
  {
   "cell_type": "code",
   "execution_count": 49,
   "metadata": {},
   "outputs": [
    {
     "data": {
      "image/png": "[encoded data removed]",
      "text/plain": [
       "<matplotlib.figure.Figure at 0x10e1fcdccf8>"
      ]
     },
     "metadata": {},
     "output_type": "display_data"
    },
    {
     "data": {
      "text/plain": [
       "27"
      ]
     },
     "execution_count": 49,
     "metadata": {},
     "output_type": "execute_result"
    }
   ],
   "source": [
    "Kmeans(16,1)"
   ]
  },
  {
   "cell_type": "code",
   "execution_count": 50,
   "metadata": {},
   "outputs": [
    {
     "data": {
      "image/png": "[encoded data removed]",
      "text/plain": [
       "<matplotlib.figure.Figure at 0x10e1fcdc588>"
      ]
     },
     "metadata": {},
     "output_type": "display_data"
    },
    {
     "data": {
      "text/plain": [
       "23"
      ]
     },
     "execution_count": 50,
     "metadata": {},
     "output_type": "execute_result"
    }
   ],
   "source": [
    "Kmeans(32,1)"
   ]
  },
  {
   "cell_type": "markdown",
   "metadata": {},
   "source": [
    "<h1>2. Norm2 (k = 8,16,32)</h1>"
   ]
  },
  {
   "cell_type": "code",
   "execution_count": 51,
   "metadata": {},
   "outputs": [
    {
     "data": {
      "image/png": "[encoded data removed]",
      "text/plain": [
       "<matplotlib.figure.Figure at 0x10e1fcbd588>"
      ]
     },
     "metadata": {},
     "output_type": "display_data"
    },
    {
     "data": {
      "text/plain": [
       "19"
      ]
     },
     "execution_count": 51,
     "metadata": {},
     "output_type": "execute_result"
    }
   ],
   "source": [
    "Kmeans(8,2)"
   ]
  },
  {
   "cell_type": "code",
   "execution_count": 52,
   "metadata": {},
   "outputs": [
    {
     "data": {
      "image/png": "[encoded data removed]",
      "text/plain": [
       "<matplotlib.figure.Figure at 0x10e1ea0b5f8>"
      ]
     },
     "metadata": {},
     "output_type": "display_data"
    },
    {
     "data": {
      "text/plain": [
       "28"
      ]
     },
     "execution_count": 52,
     "metadata": {},
     "output_type": "execute_result"
    }
   ],
   "source": [
    "Kmeans(16,2)"
   ]
  },
  {
   "cell_type": "code",
   "execution_count": 53,
   "metadata": {},
   "outputs": [
    {
     "data": {
      "image/png": "[encoded data removed]",
      "text/plain": [
       "<matplotlib.figure.Figure at 0x10e1f5cc128>"
      ]
     },
     "metadata": {},
     "output_type": "display_data"
    },
    {
     "data": {
      "text/plain": [
       "29"
      ]
     },
     "execution_count": 53,
     "metadata": {},
     "output_type": "execute_result"
    }
   ],
   "source": [
    "Kmeans(32,2)"
   ]
  },
  {
   "cell_type": "code",
   "execution_count": null,
   "metadata": {
    "collapsed": true
   },
   "outputs": [],
   "source": []
  }
 ],
 "metadata": {
  "kernelspec": {
   "display_name": "Python 3",
   "language": "python",
   "name": "python3"
  },
  "language_info": {
   "codemirror_mode": {
    "name": "ipython",
    "version": 3
   },
   "file_extension": ".py",
   "mimetype": "text/x-python",
   "name": "python",
   "nbconvert_exporter": "python",
   "pygments_lexer": "ipython3",
   "version": "3.6.3"
  }
 },
 "nbformat": 4,
 "nbformat_minor": 2
}
