{
 "cells": [
  {
   "cell_type": "markdown",
   "metadata": {},
   "source": [
    "<h1>20156025_Sungho Park</h1>"
   ]
  },
  {
   "cell_type": "code",
   "execution_count": 1,
   "metadata": {},
   "outputs": [
    {
     "data": {
      "text/plain": [
       "<matplotlib.figure.Figure at 0x1a884ee6828>"
      ]
     },
     "metadata": {},
     "output_type": "display_data"
    }
   ],
   "source": [
    "import matplotlib.pyplot as plt\n",
    "import numpy as np\n",
    "import random\n",
    "\n",
    "file_data\t\t= \"mnist_train.csv\"\n",
    "handle_file\t= open(file_data, \"r\")\n",
    "data        \t\t= handle_file.readlines()\n",
    "handle_file.close()\n",
    "\n",
    "size_row\t= 28    # height of the image\n",
    "size_col  \t= 28    # width of the image\n",
    "\n",
    "num_image\t= len(data)\n",
    "count       \t= 0     # count for the number of images\n",
    "\n",
    "#\n",
    "# normalize the values of the input data to be [0, 1]\n",
    "#\n",
    "def normalize(data):\n",
    "\n",
    "    data_normalized = (data - min(data)) / (max(data) - min(data))\n",
    "\n",
    "    return(data_normalized)\n",
    "\n",
    "#\n",
    "# example of distance function between two vectors x and y\n",
    "#\n",
    "def distance(x, y):\n",
    "\n",
    "    d = (x - y) ** 2\n",
    "    s = np.sum(d)\n",
    "    # r = np.sqrt(s)\n",
    "\n",
    "    return(s)\n",
    "\n",
    "#\n",
    "# make a matrix each column of which represents an images in a vector form \n",
    "#\n",
    "list_image  = np.empty((size_row * size_col, num_image), dtype=float)\n",
    "list_label  = np.empty(num_image, dtype=int)\n",
    "\n",
    "for line in data:\n",
    "\n",
    "    line_data   = line.split(',')\n",
    "    label       = line_data[0]\n",
    "    im_vector   = np.asfarray(line_data[1:])\n",
    "    im_vector   = normalize(im_vector)\n",
    "\n",
    "    list_label[count]       = label\n",
    "    list_image[:, count]    = im_vector    \n",
    "\n",
    "    count += 1\n",
    "\n",
    "# \n",
    "# plot first 100 images out of 10,000 with their labels\n",
    "# \n",
    "f1 = plt.figure(1)\n",
    "\n",
    "# for i in range(2):\n",
    "\n",
    "#     label       = list_label[i]\n",
    "#     im_vector   = list_image[:, i]\n",
    "#     im_matrix   = im_vector.reshape((size_row, size_col))\n",
    "\n",
    "#     plt.subplot(2,1, i+1)\n",
    "#     plt.title(label)\n",
    "#     plt.imshow(im_matrix, cmap='Greys', interpolation='None')\n",
    "\n",
    "#     frame   = plt.gca()\n",
    "#     frame.axes.get_xaxis().set_visible(False)\n",
    "#     frame.axes.get_yaxis().set_visible(False)\n",
    "\n",
    "# plt.show()"
   ]
  },
  {
   "cell_type": "code",
   "execution_count": 2,
   "metadata": {
    "collapsed": true
   },
   "outputs": [],
   "source": [
    "# 테스트 데이터 불러오기\n",
    "file_data_test\t\t= \"mnist_test.csv\"\n",
    "\n",
    "handle_file\t= open(file_data_test, \"r\")\n",
    "data_test      \t\t= handle_file.readlines()\n",
    "handle_file.close()\n",
    "\n",
    "size_row\t= 28    # height of the image\n",
    "size_col  \t= 28    # width of the image\n",
    "\n",
    "num_image_test = len(data_test)\n",
    "count       \t= 0     # count for the number of images\n",
    "\n",
    "list_image_test = np.empty((size_row * size_col, num_image_test), dtype=float)\n",
    "list_label_test  = np.empty(num_image_test, dtype=int)\n",
    "    \n",
    "for line in data_test:\n",
    "    line_data_test = line.split(',')\n",
    "    label_test     = line_data_test[0]\n",
    "    im_vector_test = np.asfarray(line_data_test[1:])\n",
    "    im_vector_test = normalize(im_vector_test)\n",
    "    \n",
    "    list_label_test[count]   = label_test\n",
    "    list_image_test[:,count]      = im_vector_test\n",
    "    count += 1"
   ]
  },
  {
   "cell_type": "code",
   "execution_count": 10,
   "metadata": {
    "collapsed": true
   },
   "outputs": [],
   "source": [
    "# train data 적용\n",
    "\n",
    "num_zero = 0\n",
    "A = np.zeros((num_image, size_row * size_col + 1), dtype = 'float')    # 60000 , 785 \n",
    "b = np.ones((num_image,1),dtype = 'float')                             # 60000 , 1\n",
    "x = np.zeros((size_row * size_col + 1,1))                             # 785 , 1\n",
    "\n",
    "#A,b 만들기\n",
    "for i in range(num_image):\n",
    "    if list_label[i] != 0:\n",
    "        b[i] = -1.0                                 # 라벨이 0이아니라면 -1\n",
    "    A[i,0] = 1                                      # 상수 추가\n",
    "    A[i,1:len(A[0,:])] = list_image[:,i]            # train data 추가\n",
    "    \n",
    "    for j in range(size_row * size_col):\n",
    "        if list_image[j,i] == 0:\n",
    "            list_image[j,i] = random.randrange(1,3)/255.0\n",
    "    \n",
    "#print(A[0])"
   ]
  },
  {
   "cell_type": "code",
   "execution_count": 11,
   "metadata": {
    "collapsed": true
   },
   "outputs": [],
   "source": [
    "#least Square\n",
    "x = inv(np.matrix(A.T) * np.matrix(A)) * np.matrix(A.T) * np.matrix(b)"
   ]
  },
  {
   "cell_type": "markdown",
   "metadata": {},
   "source": [
    "<h2> Using Training Data <br><br>\n",
    "(1) Positive True<br>\n",
    "(2) Positive False<br>\n",
    "(3) Negative True<br>\n",
    "(4) Negative False<br>\n",
    "</h2>"
   ]
  },
  {
   "cell_type": "code",
   "execution_count": 21,
   "metadata": {
    "scrolled": false
   },
   "outputs": [
    {
     "name": "stdout",
     "output_type": "stream",
     "text": [
      "Positive True  :  5172 / 5923 = 0.8732061455343576 = 87 %\n",
      "Positive False :  177 / 54077 = 0.003273110564565342 = 0 %\n",
      "Negative True  :  53900 / 54077 = 0.9967268894354346 = 99 %\n",
      "Negative False :  751 / 5923 = 0.1267938544656424 = 12 %\n"
     ]
    }
   ],
   "source": [
    "dd = A*x\n",
    "\n",
    "num_zero = 0\n",
    "num_not_zero = 0\n",
    "for i in range(num_image):\n",
    "    if list_label[i] == 0:\n",
    "        num_zero += 1            #0인거갯수\n",
    "    else:\n",
    "        num_not_zero += 1        \n",
    "\n",
    "\n",
    "pt_count = 0\n",
    "pf_count = 0\n",
    "nt_count = 0\n",
    "nf_count = 0\n",
    "\n",
    "for i in range(num_image):\n",
    "    if list_label[i] == 0:        # 실제 label이 0인것중에\n",
    "        if dd[i] >= 0:             # 내가 0이라고 대답한 갯수\n",
    "            pt_count += 1\n",
    "        else:                          # 내가 0이 아니라고 대답한 갯수\n",
    "            nf_count += 1\n",
    "            \n",
    "    elif list_label[i] != 0:       # 실제 label이 0이 아닌것중에\n",
    "        if dd[i] >= 0:              # 내가 0이라고 대답한 갯수\n",
    "            pf_count += 1\n",
    "        else:                           # 내가 0이 아니라고 대답한 갯수\n",
    "            nt_count += 1\n",
    "\n",
    "print(\"Positive True  : \",pt_count,\"/\",num_zero,\"=\", pt_count / num_zero ,\"=\",int(pt_count / num_zero * 100),\"%\")\n",
    "print(\"Positive False : \",pf_count,\"/\",num_not_zero,\"=\", pf_count / num_not_zero,\"=\",int(pf_count / num_not_zero* 100),\"%\")\n",
    "print(\"Negative True  : \",nt_count,\"/\",num_not_zero,\"=\", nt_count / num_not_zero,\"=\",int(nt_count / num_not_zero* 100),\"%\")\n",
    "print(\"Negative False : \",nf_count,\"/\",num_zero,\"=\", nf_count / num_zero,\"=\",int(nf_count / num_zero* 100),\"%\")"
   ]
  },
  {
   "cell_type": "markdown",
   "metadata": {},
   "source": [
    "<h2> Using Testing Data <br><br>\n",
    "(1) Positive True<br>\n",
    "(2) Positive False<br>\n",
    "(3) Negative True<br>\n",
    "(4) Negative False<br>\n",
    "</h2>"
   ]
  },
  {
   "cell_type": "code",
   "execution_count": 17,
   "metadata": {},
   "outputs": [
    {
     "name": "stdout",
     "output_type": "stream",
     "text": [
      "Positive True  :  867 / 980 = 0.8846938775510204 = 88 %\n",
      "Positive False :  42 / 9020 = 0.004656319290465632 = 0 %\n",
      "Negative True  :  8978 / 9020 = 0.9953436807095344 = 99 %\n",
      "Negative False :  113 / 980 = 0.11530612244897959 = 11 %\n"
     ]
    }
   ],
   "source": [
    "test1 = np.zeros((num_image_test,size_row * size_col + 1),dtype = 'float')\n",
    "result = np.zeros(num_image_test, dtype = 'float')\n",
    "\n",
    "num_zero = 0\n",
    "num_not_zero = 0\n",
    "\n",
    "for i in range(num_image_test):\n",
    "    test1[i] = 1\n",
    "    test1[i,1:len(test1[0,:])] = list_image_test[:,i]\n",
    "    if list_label_test[i] == 0:\n",
    "        num_zero += 1            #0인거갯수\n",
    "    else:\n",
    "        num_not_zero += 1        \n",
    "\n",
    "result = test1 * x\n",
    "\n",
    "pt_count = 0\n",
    "pf_count = 0\n",
    "nt_count = 0\n",
    "nf_count = 0\n",
    "\n",
    "for i in range(num_image_test):\n",
    "    if list_label_test[i] == 0:        # 실제 label이 0인것중에\n",
    "        if result[i] >= 0:             # 내가 0이라고 대답한 갯수\n",
    "            pt_count += 1\n",
    "        else:                          # 내가 0이 아니라고 대답한 갯수\n",
    "            nf_count += 1\n",
    "            \n",
    "    elif list_label_test[i] != 0:       # 실제 label이 0이 아닌것중에\n",
    "        if result[i] >= 0:              # 내가 0이라고 대답한 갯수\n",
    "            pf_count += 1\n",
    "        else:                           # 내가 0이 아니라고 대답한 갯수\n",
    "            nt_count += 1\n",
    "\n",
    "print(\"Positive True  : \",pt_count,\"/\",num_zero,\"=\", pt_count / num_zero ,\"=\",int(pt_count / num_zero * 100),\"%\")\n",
    "print(\"Positive False : \",pf_count,\"/\",num_not_zero,\"=\", pf_count / num_not_zero,\"=\",int(pf_count / num_not_zero* 100),\"%\")\n",
    "print(\"Negative True  : \",nt_count,\"/\",num_not_zero,\"=\", nt_count / num_not_zero,\"=\",int(nt_count / num_not_zero* 100),\"%\")\n",
    "print(\"Negative False : \",nf_count,\"/\",num_zero,\"=\", nf_count / num_zero,\"=\",int(nf_count / num_zero* 100),\"%\")"
   ]
  },
  {
   "cell_type": "code",
   "execution_count": null,
   "metadata": {
    "collapsed": true
   },
   "outputs": [],
   "source": []
  }
 ],
 "metadata": {
  "kernelspec": {
   "display_name": "Python 3",
   "language": "python",
   "name": "python3"
  },
  "language_info": {
   "codemirror_mode": {
    "name": "ipython",
    "version": 3
   },
   "file_extension": ".py",
   "mimetype": "text/x-python",
   "name": "python",
   "nbconvert_exporter": "python",
   "pygments_lexer": "ipython3",
   "version": "3.6.3"
  }
 },
 "nbformat": 4,
 "nbformat_minor": 2
}
