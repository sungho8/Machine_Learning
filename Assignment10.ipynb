{
 "cells": [
  {
   "cell_type": "markdown",
   "metadata": {},
   "source": [
    "<h1>20156025_Sungho Park</h1>"
   ]
  },
  {
   "cell_type": "code",
   "execution_count": 1,
   "metadata": {
    "collapsed": true
   },
   "outputs": [],
   "source": [
    "import matplotlib.pyplot as plt\n",
    "import numpy as np\n",
    "import random\n",
    "\n",
    "file_data\t\t= \"mnist_train.csv\"\n",
    "handle_file\t= open(file_data, \"r\")\n",
    "data        \t\t= handle_file.readlines()\n",
    "handle_file.close()\n",
    "\n",
    "size_row\t= 28    # height of the image\n",
    "size_col  \t= 28    # width of the image\n",
    "\n",
    "num_image\t= len(data)\n",
    "count       \t= 0     # count for the number of images\n",
    "\n",
    "#\n",
    "# normalize the values of the input data to be [0, 1]\n",
    "#\n",
    "def normalize(data):\n",
    "\n",
    "    data_normalized = (data - min(data)) / (max(data) - min(data))\n",
    "\n",
    "    return(data_normalized)\n",
    "\n",
    "#\n",
    "# example of distance function between two vectors x and y\n",
    "#\n",
    "def distance(x, y):\n",
    "\n",
    "    d = (x - y) ** 2\n",
    "    s = np.sum(d)\n",
    "    # r = np.sqrt(s)\n",
    "\n",
    "    return(s)\n",
    "\n",
    "#\n",
    "# make a matrix each column of which represents an images in a vector form \n",
    "#\n",
    "list_image  = np.empty((size_row * size_col, num_image), dtype=float)\n",
    "list_label  = np.empty(num_image, dtype=int)\n",
    "\n",
    "for line in data:\n",
    "\n",
    "    line_data   = line.split(',')\n",
    "    label       = line_data[0]\n",
    "    im_vector   = np.asfarray(line_data[1:])\n",
    "    im_vector   = normalize(im_vector)\n",
    "\n",
    "    list_label[count]       = label\n",
    "    list_image[:, count]    = im_vector    \n",
    "\n",
    "    count += 1"
   ]
  },
  {
   "cell_type": "code",
   "execution_count": 2,
   "metadata": {
    "collapsed": true
   },
   "outputs": [],
   "source": [
    "# 테스트 데이터 불러오기\n",
    "file_data_test\t\t= \"mnist_test.csv\"\n",
    "\n",
    "handle_file\t= open(file_data_test, \"r\")\n",
    "data_test      \t\t= handle_file.readlines()\n",
    "handle_file.close()\n",
    "\n",
    "size_row\t= 28    # height of the image\n",
    "size_col  \t= 28    # width of the image\n",
    "\n",
    "num_image_test = len(data_test)\n",
    "count       \t= 0     # count for the number of images\n",
    "\n",
    "list_image_test = np.empty((size_row * size_col, num_image_test), dtype=float)\n",
    "list_label_test  = np.empty(num_image_test, dtype=int)\n",
    "    \n",
    "for line in data_test:\n",
    "    line_data_test = line.split(',')\n",
    "    label_test     = line_data_test[0]\n",
    "    im_vector_test = np.asfarray(line_data_test[1:])\n",
    "    im_vector_test = normalize(im_vector_test)\n",
    "    \n",
    "    list_label_test[count]   = label_test\n",
    "    list_image_test[:,count]      = im_vector_test\n",
    "    count += 1"
   ]
  },
  {
   "cell_type": "code",
   "execution_count": 5,
   "metadata": {
    "collapsed": true
   },
   "outputs": [],
   "source": [
    "# train data 적용\n",
    "\n",
    "num_zero = 0\n",
    "A = np.zeros((num_image, size_row * size_col + 1), dtype = 'float')    # 60000 , 785 \n",
    "b = np.ones((num_image,10),dtype = 'float')                             # 60000 , 10\n",
    "x = np.zeros((size_row * size_col + 1,10))                             # 785 , 10\n",
    "\n",
    "#A,b 만들기\n",
    "for i in range(num_image):\n",
    "    for j in range(10):\n",
    "        if list_label[i] != j:                      # b는 각 label이 아니라면 -1로 초기화\n",
    "            b[i][j] = -1.0 \n",
    "    A[i,0] = 1                                      # 상수 추가\n",
    "    A[i,1:len(A[0,:])] = list_image[:,i]            # train data 추가\n",
    "    \n",
    "    for j in range(size_row * size_col):\n",
    "        if list_image[j,i] == 0:\n",
    "            list_image[j,i] = random.randrange(1,3)/255.0\n",
    "    \n",
    "#print(A[0])\n",
    "#print(b)"
   ]
  },
  {
   "cell_type": "code",
   "execution_count": 6,
   "metadata": {},
   "outputs": [],
   "source": [
    "#least Square\n",
    "x = inv(np.matrix(A.T) * np.matrix(A))*np.matrix(A.T)*np.matrix(b)"
   ]
  },
  {
   "cell_type": "markdown",
   "metadata": {},
   "source": [
    "<h2> Using Testing Data </h2>"
   ]
  },
  {
   "cell_type": "code",
   "execution_count": 24,
   "metadata": {
    "scrolled": false
   },
   "outputs": [
    {
     "name": "stdout",
     "output_type": "stream",
     "text": [
      "< Using Testing dataset >\n",
      "true positive rate :  0.8517  =  85.17\n",
      "error         rate :  0.1483  =  14.829999999999998\n"
     ]
    }
   ],
   "source": [
    "test = np.zeros((num_image_test,size_row * size_col + 1),dtype = 'float')\n",
    "result = np.zeros((num_image_test,10), dtype = 'float')\n",
    "result_label = np.zeros(num_image_test,dtype = 'int')\n",
    "\n",
    "true = 0\n",
    "false = 0\n",
    "\n",
    "for i in range(num_image_test):\n",
    "    test[i] = 1\n",
    "    test[i,1:len(test[0,:])] = list_image_test[:,i]\n",
    "\n",
    "result = test * x\n",
    "\n",
    "\n",
    "for i in range(len(result)):\n",
    "    m = []\n",
    "    for j in range(10):\n",
    "        m.append(result[i,j])\n",
    "    result_label[i] = m.index(max(m))\n",
    "    \n",
    "    if result_label[i] == list_label_test[i]:\n",
    "        true += 1\n",
    "    else:\n",
    "        false += 1\n",
    "        \n",
    "print(\"< Using Testing dataset >\")\n",
    "print(\"true positive rate : \",true / num_image_test,\" = \",true / num_image_test*100)\n",
    "print(\"error         rate : \",false/ num_image_test,\" = \",false/ num_image_test*100)\n"
   ]
  },
  {
   "cell_type": "markdown",
   "metadata": {
    "collapsed": true
   },
   "source": [
    "<h2> Using Training Data </h2>"
   ]
  },
  {
   "cell_type": "code",
   "execution_count": 25,
   "metadata": {},
   "outputs": [
    {
     "name": "stdout",
     "output_type": "stream",
     "text": [
      "< Using Training dataset > \n",
      "true positive rate :  0.85825  =  85.82499999999999\n",
      "error         rate :  0.14175  =  14.174999999999999\n"
     ]
    }
   ],
   "source": [
    "result2 = np.zeros((num_image,10), dtype = 'float')\n",
    "result2_label = np.zeros(num_image,dtype = 'int')\n",
    "\n",
    "true = 0\n",
    "false = 0\n",
    "\n",
    "result2 = A * x\n",
    "\n",
    "\n",
    "for i in range(len(result2)):\n",
    "    m2 = []\n",
    "    for j in range(10):\n",
    "        m2.append(result2[i,j])\n",
    "    result2_label[i] = m2.index(max(m2))\n",
    "    \n",
    "    if result2_label[i] == list_label[i]:\n",
    "        true += 1\n",
    "    else:\n",
    "        false += 1\n",
    "        \n",
    "print(\"< Using Training dataset > \")\n",
    "print(\"true positive rate : \",true / num_image,\" = \",true / num_image*100)\n",
    "print(\"error         rate : \",false/ num_image,\" = \",false/ num_image*100)\n"
   ]
  },
  {
   "cell_type": "code",
   "execution_count": null,
   "metadata": {
    "collapsed": true
   },
   "outputs": [],
   "source": []
  }
 ],
 "metadata": {
  "kernelspec": {
   "display_name": "Python 3",
   "language": "python",
   "name": "python3"
  },
  "language_info": {
   "codemirror_mode": {
    "name": "ipython",
    "version": 3
   },
   "file_extension": ".py",
   "mimetype": "text/x-python",
   "name": "python",
   "nbconvert_exporter": "python",
   "pygments_lexer": "ipython3",
   "version": "3.6.3"
  }
 },
 "nbformat": 4,
 "nbformat_minor": 2
}
